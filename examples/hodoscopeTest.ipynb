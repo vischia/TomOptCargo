{
 "cells": [
  {
   "cell_type": "markdown",
   "id": "20686ab8",
   "metadata": {},
   "source": [
    "## Layers and hodoscopes\n",
    "\n",
    "\n",
    "The default *layer* class `PanelDetectorLayer` in TomOpt uses multiple *panels* `DetectorPanel` to record muon position.\n",
    "\n",
    "`PanelDetectorLayer` inherits from the `AbsDetectorLayer` and **MUST** provide the following **methods**:\n",
    "\n",
    " - `forward`: The forward method to propagate the muons. It is a central aspect of `nn.Module`.\n",
    " - `get_cost`\n",
    " - `conform_detector`\n",
    "  - `assign_budget`\n",
    "\n",
    "and the following **features**:\n",
    "\n",
    " - `pos`: the position of the layer, either `above` or `bellow`. \n",
    " - `lw`: the length and width of the layer.\n",
    " - `z`: the z position of the top of gthe layer. \n",
    " - `size`: the heigth of the layer such that z - size is the bottom of the layer.\n",
    " - `device`: torch.device."
   ]
  },
  {
   "cell_type": "code",
   "execution_count": 1,
   "id": "d203feff",
   "metadata": {},
   "outputs": [
    {
     "name": "stdout",
     "output_type": "stream",
     "text": [
      "tensor(1.9200)\n"
     ]
    }
   ],
   "source": [
    "from torch import Tensor\n",
    "# from torch import nn\n",
    "from volume.hodoscope import Hodoscope\n",
    "from volume.hodoscopelayer import HodoscopeDetectorLayer\n",
    "\n",
    "hod1 = Hodoscope(init_xyz= [.5, .5, 1.], \n",
    "                 init_xyz_span = [1., 1., .3], \n",
    "                 xyz_gap = [.1, .1, .1],\n",
    "                 panel_type = 'DetectorPanel')\n",
    "\n",
    "hod2 = Hodoscope(smooth=0.5,\n",
    "                 init_xyz = [0.25, 0.25, 0.6], \n",
    "                 init_xyz_span = [1., 1., .3], \n",
    "                 xyz_gap = [.1, .1, .1])\n",
    "\n",
    "\n",
    "hods = [hod1, hod2]\n",
    "\n",
    "hod_detector_above = HodoscopeDetectorLayer(pos = 'above', lw = Tensor([1,1]), z = 1., size = 0.5, \n",
    "                                            hodoscopes = hods)\n",
    "\n",
    "print(hod2.get_cost())"
   ]
  },
  {
   "cell_type": "code",
   "execution_count": 4,
   "metadata": {},
   "outputs": [
    {
     "name": "stdout",
     "output_type": "stream",
     "text": [
      "[1.5, 1.5, 1.3]\n"
     ]
    }
   ],
   "source": [
    "print(hod1.xyz_max)"
   ]
  },
  {
   "cell_type": "code",
   "execution_count": null,
   "id": "1fe2ebe5",
   "metadata": {},
   "outputs": [
    {
     "name": "stdout",
     "output_type": "stream",
     "text": [
      "PRIMA\n",
      "xyz panels: 0 Parameter containing:\n",
      "tensor([0.5000, 0.5000], requires_grad=True) Parameter containing:\n",
      "tensor([0.9000], requires_grad=True)\n",
      "xyz panels: 1 Parameter containing:\n",
      "tensor([0.5000, 0.5000], requires_grad=True) Parameter containing:\n",
      "tensor([0.8500], requires_grad=True)\n",
      "xyz panels: 2 Parameter containing:\n",
      "tensor([0.5000, 0.5000], requires_grad=True) Parameter containing:\n",
      "tensor([0.8000], requires_grad=True)\n",
      "xyz panels: 3 Parameter containing:\n",
      "tensor([0.2500, 0.2500], requires_grad=True) Parameter containing:\n",
      "tensor([0.5000], requires_grad=True)\n",
      "xyz panels: 4 Parameter containing:\n",
      "tensor([0.2500, 0.2500], requires_grad=True) Parameter containing:\n",
      "tensor([0.4500], requires_grad=True)\n",
      "xyz panels: 5 Parameter containing:\n",
      "tensor([0.2500, 0.2500], requires_grad=True) Parameter containing:\n",
      "tensor([0.4000], requires_grad=True)\n",
      "MODIFICATO\n",
      "xyz panels: 2 Parameter containing:\n",
      "tensor([0.5000, 0.5000], requires_grad=True) Parameter containing:\n",
      "tensor(45., requires_grad=True)\n",
      "xyz panels: 0 Parameter containing:\n",
      "tensor([0.5000, 0.5000], requires_grad=True) Parameter containing:\n",
      "tensor([0.9000], requires_grad=True)\n",
      "xyz panels: 1 Parameter containing:\n",
      "tensor([0.5000, 0.5000], requires_grad=True) Parameter containing:\n",
      "tensor([0.8500], requires_grad=True)\n",
      "xyz panels: 3 Parameter containing:\n",
      "tensor([0.2500, 0.2500], requires_grad=True) Parameter containing:\n",
      "tensor([0.5000], requires_grad=True)\n",
      "xyz panels: 4 Parameter containing:\n",
      "tensor([0.2500, 0.2500], requires_grad=True) Parameter containing:\n",
      "tensor([0.4500], requires_grad=True)\n",
      "xyz panels: 5 Parameter containing:\n",
      "tensor([0.2500, 0.2500], requires_grad=True) Parameter containing:\n",
      "tensor([0.4000], requires_grad=True)\n"
     ]
    },
    {
     "ename": "AttributeError",
     "evalue": "'Hodoscope' object has no attribute 'clamp_params'",
     "output_type": "error",
     "traceback": [
      "\u001b[1;31m---------------------------------------------------------------------------\u001b[0m",
      "\u001b[1;31mAttributeError\u001b[0m                            Traceback (most recent call last)",
      "Cell \u001b[1;32mIn[3], line 16\u001b[0m\n\u001b[0;32m     12\u001b[0m \u001b[38;5;28;01mfor\u001b[39;00m i, p \u001b[38;5;129;01min\u001b[39;00m hod_detector_above\u001b[38;5;241m.\u001b[39myield_zordered_panels():\n\u001b[0;32m     13\u001b[0m     \u001b[38;5;28mprint\u001b[39m(\u001b[38;5;124m\"\u001b[39m\u001b[38;5;124mxyz panels:\u001b[39m\u001b[38;5;124m\"\u001b[39m, i, p\u001b[38;5;241m.\u001b[39mxy, p\u001b[38;5;241m.\u001b[39mz)\n\u001b[1;32m---> 16\u001b[0m \u001b[43mhod_detector_above\u001b[49m\u001b[38;5;241;43m.\u001b[39;49m\u001b[43mconform_detector\u001b[49m\u001b[43m(\u001b[49m\u001b[43m)\u001b[49m\n\u001b[0;32m     18\u001b[0m \u001b[38;5;28mprint\u001b[39m(\u001b[38;5;124m\"\u001b[39m\u001b[38;5;124mCLAMPEADO\u001b[39m\u001b[38;5;124m\"\u001b[39m)\n\u001b[0;32m     19\u001b[0m \u001b[38;5;28;01mfor\u001b[39;00m hod \u001b[38;5;129;01min\u001b[39;00m hod_detector_above\u001b[38;5;241m.\u001b[39mhodoscopes:\n",
      "File \u001b[1;32mc:\\Users\\samue\\TomOptCargo\\volume\\hodoscopelayer.py:100\u001b[0m, in \u001b[0;36mHodoscopeDetectorLayer.conform_detector\u001b[1;34m(self)\u001b[0m\n\u001b[0;32m     98\u001b[0m z \u001b[38;5;241m=\u001b[39m \u001b[38;5;28mself\u001b[39m\u001b[38;5;241m.\u001b[39mz\u001b[38;5;241m.\u001b[39mdetach()\u001b[38;5;241m.\u001b[39mcpu()[\u001b[38;5;241m0\u001b[39m]\n\u001b[0;32m     99\u001b[0m \u001b[38;5;28;01mfor\u001b[39;00m p \u001b[38;5;129;01min\u001b[39;00m \u001b[38;5;28mself\u001b[39m\u001b[38;5;241m.\u001b[39mhodoscopes:\n\u001b[1;32m--> 100\u001b[0m     \u001b[43mp\u001b[49m\u001b[38;5;241;43m.\u001b[39;49m\u001b[43mclamp_params\u001b[49m(\n\u001b[0;32m    101\u001b[0m         xyz_low\u001b[38;5;241m=\u001b[39m(\u001b[38;5;241m0\u001b[39m, \u001b[38;5;241m0\u001b[39m, z \u001b[38;5;241m-\u001b[39m \u001b[38;5;28mself\u001b[39m\u001b[38;5;241m.\u001b[39msize),\n\u001b[0;32m    102\u001b[0m         xyz_high\u001b[38;5;241m=\u001b[39m(lw[\u001b[38;5;241m0\u001b[39m], lw[\u001b[38;5;241m1\u001b[39m], z),\n\u001b[0;32m    103\u001b[0m     )\n",
      "File \u001b[1;32mc:\\Users\\samue\\anaconda3\\envs\\tomopt\\lib\\site-packages\\torch\\nn\\modules\\module.py:1688\u001b[0m, in \u001b[0;36mModule.__getattr__\u001b[1;34m(self, name)\u001b[0m\n\u001b[0;32m   1686\u001b[0m     \u001b[38;5;28;01mif\u001b[39;00m name \u001b[38;5;129;01min\u001b[39;00m modules:\n\u001b[0;32m   1687\u001b[0m         \u001b[38;5;28;01mreturn\u001b[39;00m modules[name]\n\u001b[1;32m-> 1688\u001b[0m \u001b[38;5;28;01mraise\u001b[39;00m \u001b[38;5;167;01mAttributeError\u001b[39;00m(\u001b[38;5;124mf\u001b[39m\u001b[38;5;124m\"\u001b[39m\u001b[38;5;124m'\u001b[39m\u001b[38;5;132;01m{\u001b[39;00m\u001b[38;5;28mtype\u001b[39m(\u001b[38;5;28mself\u001b[39m)\u001b[38;5;241m.\u001b[39m\u001b[38;5;18m__name__\u001b[39m\u001b[38;5;132;01m}\u001b[39;00m\u001b[38;5;124m'\u001b[39m\u001b[38;5;124m object has no attribute \u001b[39m\u001b[38;5;124m'\u001b[39m\u001b[38;5;132;01m{\u001b[39;00mname\u001b[38;5;132;01m}\u001b[39;00m\u001b[38;5;124m'\u001b[39m\u001b[38;5;124m\"\u001b[39m)\n",
      "\u001b[1;31mAttributeError\u001b[0m: 'Hodoscope' object has no attribute 'clamp_params'"
     ]
    }
   ],
   "source": [
    "# Test clamping feature\n",
    "\n",
    "import torch\n",
    "\n",
    "print(\"PRIMA\")\n",
    "for i, p in hod_detector_above.yield_zordered_panels():\n",
    "    print(\"xyz panels:\", i, p.xy, p.z)\n",
    "    if i ==2:\n",
    "        p.z.data = torch.tensor(45.)\n",
    "\n",
    "print(\"MODIFICATO\")\n",
    "for i, p in hod_detector_above.yield_zordered_panels():\n",
    "    print(\"xyz panels:\", i, p.xy, p.z)\n",
    "    \n",
    "    \n",
    "hod_detector_above.conform_detector()\n",
    "\n",
    "print(\"CLAMPEADO\")\n",
    "for hod in hod_detector_above.hodoscopes:\n",
    "    print(\"\\t xyz hodoscope:\", hod.xy, hod.z)\n",
    "    for i, p in hod_detector_above.yield_zordered_panels():\n",
    "        print(\"\\t\\t xyz panels:\", i, p.xy, p.z)\n"
   ]
  },
  {
   "cell_type": "code",
   "execution_count": null,
   "id": "bccf86d3",
   "metadata": {},
   "outputs": [],
   "source": []
  }
 ],
 "metadata": {
  "kernelspec": {
   "display_name": "Python (tomopt)",
   "language": "python",
   "name": "tomopt"
  },
  "language_info": {
   "codemirror_mode": {
    "name": "ipython",
    "version": 3
   },
   "file_extension": ".py",
   "mimetype": "text/x-python",
   "name": "python",
   "nbconvert_exporter": "python",
   "pygments_lexer": "ipython3",
   "version": "3.10.14"
  }
 },
 "nbformat": 4,
 "nbformat_minor": 5
}
